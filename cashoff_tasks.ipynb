{
 "cells": [
  {
   "cell_type": "markdown",
   "metadata": {},
   "source": [
    "**Постановка задачи:**  \n",
    "Во вложении 2 файла, произвольный список операций(операции.xls) и рандомная выгрузка чеков за 2018 год(чеки за 2018.xlsx)  \n",
    "Соискателю, необходимо на основании этих данных необходимо выдвинуть 2-3 гипотезы и доказать/опровергнуть их.  \n",
    "\n",
    "Например:  \n",
    "Не курящие люди чаще берут картошку, чем свеклу.  \n",
    "С ростом инфляции смещается время, когда люди ходят в магазин  \n",
    "и тд."
   ]
  },
  {
   "cell_type": "code",
   "execution_count": 1,
   "metadata": {},
   "outputs": [],
   "source": [
    "import pandas as pd, numpy as np\n",
    "import os, xlrd\n",
    "\n",
    "#Visualization\n",
    "import plotly\n",
    "import plotly.plotly as py\n",
    "from plotly import tools\n",
    "import plotly.graph_objs as go\n",
    "import plotly.figure_factory as ff\n",
    "\n",
    "from scipy import stats"
   ]
  },
  {
   "cell_type": "markdown",
   "metadata": {},
   "source": [
    "Посмотрим, из чего состоят эксель файлы"
   ]
  },
  {
   "cell_type": "code",
   "execution_count": 2,
   "metadata": {},
   "outputs": [
    {
     "name": "stdout",
     "output_type": "stream",
     "text": [
      "Found excel files in current folder: ['операции.xls', 'чеки за 2018.xlsx']\n",
      "\n",
      "1 sheets in операции.xls: ['Sheet 1']\n",
      "2 sheets in чеки за 2018.xlsx: ['чеки ', 'товарные позиции']\n"
     ]
    }
   ],
   "source": [
    "excel_files = [f for f in os.listdir() if 'xls' in f]\n",
    "print('Found excel files in current folder: %s\\n'%excel_files)\n",
    "\n",
    "for file in excel_files:\n",
    "    sheet_names = xlrd.open_workbook(file, on_demand=True).sheet_names()\n",
    "    print('%i sheets in %s: %s'%(len(sheet_names), file, sheet_names))"
   ]
  },
  {
   "cell_type": "markdown",
   "metadata": {},
   "source": [
    "Считаем данные и посмотрим на них"
   ]
  },
  {
   "cell_type": "code",
   "execution_count": 3,
   "metadata": {},
   "outputs": [
    {
     "name": "stdout",
     "output_type": "stream",
     "text": [
      "ops shape: (10000, 9)\n",
      "columns:\n",
      "Index(['N21AP12', 'Код идентифицирующий категорию (бизнес-код) точки сервиса.',\n",
      "       'Сумма операции в валюте карты',\n",
      "       'Код валюты, в которой выражена сумма транзакции/операции.',\n",
      "       'Сумма транзакции/операции в валюте транзакции/операции.',\n",
      "       'Уникальный для каждого Эквайера код, идентифицирующий терминал в точке сервиса,',\n",
      "       'Код авторизации. Код, присвоенный Участником, разрешившим совершение операции.',\n",
      "       'Локальные дата и время совершения транзакции.',\n",
      "       'Параметры пункта обслуживания (название и город).'],\n",
      "      dtype='object')\n",
      "\n",
      "cheq shape: (1200, 21)\n",
      "columns:\n",
      "Index(['id', 'amount', 'discount_amount', 'discounted_amount',\n",
      "       'shop_description', 'updated_at', 'points_earned', 'user_id',\n",
      "       'shop_inn', 'source', 'payment_type', 'cur_id', 'is_cashback_processed',\n",
      "       'is_cashback_approved', 'date', 'time', 'created', 'bound_to_trans_at',\n",
      "       'user_added_at', 'approved_by_id', 'received_at'],\n",
      "      dtype='object')\n",
      "\n",
      "goods shape: (6548, 8)\n",
      "columns:\n",
      "Index(['id', 'amount', 'description', 'quantity', 'rate', 'receipt_id',\n",
      "       'updated_at', 'user_id'],\n",
      "      dtype='object')\n"
     ]
    }
   ],
   "source": [
    "ops = pd.read_excel('операции.xls', sheet_name='Sheet 1')\n",
    "cheq = pd.read_excel('чеки за 2018.xlsx', sheet_name='чеки ')\n",
    "goods = pd.read_excel('чеки за 2018.xlsx', sheet_name='товарные позиции')\n",
    "\n",
    "print('ops shape: %s\\ncolumns:\\n%s\\n'%(ops.shape, ops.columns))\n",
    "print('cheq shape: %s\\ncolumns:\\n%s\\n'%(cheq.shape, cheq.columns))\n",
    "print('goods shape: %s\\ncolumns:\\n%s'%(goods.shape, goods.columns))"
   ]
  },
  {
   "cell_type": "markdown",
   "metadata": {},
   "source": [
    "**Наблюдения**:  \n",
    "* Датасет с операциями содержит только суммы, коды, время и место операций.\n",
    "* Датасет с чеками содержит информацию по чеку целиком, включая торговую точку, тип и время получения чека, кэшбек и различные стадии дальнейшей обработки чека\n",
    "* Товары содержат описания товаров и их количество в каждом чеке + идентификатор пользователя\n",
    "\n",
    "**Что делаем дальше:**\n",
    "Логично объединить чеки и товары по id чека и посмотреть на некоторые пересечения в данных"
   ]
  },
  {
   "cell_type": "code",
   "execution_count": 4,
   "metadata": {},
   "outputs": [
    {
     "name": "stdout",
     "output_type": "stream",
     "text": [
      "1 из 1201 чеков из goods отсутствуют в cheq\n",
      "0 из 1200 чеков из cheq отсутствуют в goods\n"
     ]
    }
   ],
   "source": [
    "print(\"%i из %i чеков из goods отсутствуют в cheq\"%\n",
    "      (len([i for i in goods.receipt_id.unique() if i not in cheq.id.unique()]), len(goods.receipt_id.unique())))\n",
    "print(\"%i из %i чеков из cheq отсутствуют в goods\"%\n",
    "      (len([i for i in cheq.id.unique() if i not in goods.receipt_id.unique()]), len(cheq.id.unique())))\n",
    "      \n",
    "      \n",
    "comb = (cheq.drop(['updated_at','user_id','created','bound_to_trans_at',\n",
    "                   'user_added_at','approved_by_id','received_at'], axis=1)\n",
    "        .merge(goods.drop(['id','updated_at','user_id'], axis=1), \n",
    "               left_on='id', right_on='receipt_id')\n",
    "        .drop('id', axis=1))"
   ]
  },
  {
   "cell_type": "code",
   "execution_count": 5,
   "metadata": {},
   "outputs": [
    {
     "name": "stdout",
     "output_type": "stream",
     "text": [
      "Объединённый датасет:\n"
     ]
    },
    {
     "data": {
      "text/html": [
       "<div>\n",
       "<style scoped>\n",
       "    .dataframe tbody tr th:only-of-type {\n",
       "        vertical-align: middle;\n",
       "    }\n",
       "\n",
       "    .dataframe tbody tr th {\n",
       "        vertical-align: top;\n",
       "    }\n",
       "\n",
       "    .dataframe thead th {\n",
       "        text-align: right;\n",
       "    }\n",
       "</style>\n",
       "<table border=\"1\" class=\"dataframe\">\n",
       "  <thead>\n",
       "    <tr style=\"text-align: right;\">\n",
       "      <th></th>\n",
       "      <th>0</th>\n",
       "      <th>1</th>\n",
       "      <th>2</th>\n",
       "      <th>3</th>\n",
       "      <th>4</th>\n",
       "    </tr>\n",
       "  </thead>\n",
       "  <tbody>\n",
       "    <tr>\n",
       "      <th>amount_x</th>\n",
       "      <td>366</td>\n",
       "      <td>500</td>\n",
       "      <td>400</td>\n",
       "      <td>429.37</td>\n",
       "      <td>583</td>\n",
       "    </tr>\n",
       "    <tr>\n",
       "      <th>discount_amount</th>\n",
       "      <td>0</td>\n",
       "      <td>0</td>\n",
       "      <td>0</td>\n",
       "      <td>0</td>\n",
       "      <td>0</td>\n",
       "    </tr>\n",
       "    <tr>\n",
       "      <th>discounted_amount</th>\n",
       "      <td>366</td>\n",
       "      <td>500</td>\n",
       "      <td>400</td>\n",
       "      <td>429.37</td>\n",
       "      <td>583</td>\n",
       "    </tr>\n",
       "    <tr>\n",
       "      <th>shop_description</th>\n",
       "      <td>РОСНЕФТЬ</td>\n",
       "      <td>РОСНЕФТЬ</td>\n",
       "      <td>РОСНЕФТЬ</td>\n",
       "      <td>РОСНЕФТЬ</td>\n",
       "      <td>РОСНЕФТЬ</td>\n",
       "    </tr>\n",
       "    <tr>\n",
       "      <th>points_earned</th>\n",
       "      <td>5</td>\n",
       "      <td>6.5</td>\n",
       "      <td>5.5</td>\n",
       "      <td>8.48</td>\n",
       "      <td>5</td>\n",
       "    </tr>\n",
       "    <tr>\n",
       "      <th>shop_inn</th>\n",
       "      <td>NaN</td>\n",
       "      <td>NaN</td>\n",
       "      <td>NaN</td>\n",
       "      <td>NaN</td>\n",
       "      <td>NaN</td>\n",
       "    </tr>\n",
       "    <tr>\n",
       "      <th>source</th>\n",
       "      <td>1</td>\n",
       "      <td>1</td>\n",
       "      <td>1</td>\n",
       "      <td>1</td>\n",
       "      <td>1</td>\n",
       "    </tr>\n",
       "    <tr>\n",
       "      <th>payment_type</th>\n",
       "      <td>NaN</td>\n",
       "      <td>NaN</td>\n",
       "      <td>NaN</td>\n",
       "      <td>NaN</td>\n",
       "      <td>NaN</td>\n",
       "    </tr>\n",
       "    <tr>\n",
       "      <th>cur_id</th>\n",
       "      <td>1</td>\n",
       "      <td>1</td>\n",
       "      <td>1</td>\n",
       "      <td>1</td>\n",
       "      <td>1</td>\n",
       "    </tr>\n",
       "    <tr>\n",
       "      <th>is_cashback_processed</th>\n",
       "      <td>t</td>\n",
       "      <td>t</td>\n",
       "      <td>t</td>\n",
       "      <td>t</td>\n",
       "      <td>t</td>\n",
       "    </tr>\n",
       "    <tr>\n",
       "      <th>is_cashback_approved</th>\n",
       "      <td>f</td>\n",
       "      <td>f</td>\n",
       "      <td>f</td>\n",
       "      <td>f</td>\n",
       "      <td>f</td>\n",
       "    </tr>\n",
       "    <tr>\n",
       "      <th>date</th>\n",
       "      <td>2017-08-19</td>\n",
       "      <td>2017-08-14</td>\n",
       "      <td>2016-10-03</td>\n",
       "      <td>2017-11-20</td>\n",
       "      <td>2017-11-03</td>\n",
       "    </tr>\n",
       "    <tr>\n",
       "      <th>time</th>\n",
       "      <td>00:17:04</td>\n",
       "      <td>00:21:10</td>\n",
       "      <td>00:18:29</td>\n",
       "      <td>00:06:20</td>\n",
       "      <td>00:22:16</td>\n",
       "    </tr>\n",
       "    <tr>\n",
       "      <th>amount_y</th>\n",
       "      <td>366</td>\n",
       "      <td>500</td>\n",
       "      <td>400</td>\n",
       "      <td>429.37</td>\n",
       "      <td>583</td>\n",
       "    </tr>\n",
       "    <tr>\n",
       "      <th>description</th>\n",
       "      <td>Бензин</td>\n",
       "      <td>Бензин</td>\n",
       "      <td>Бензин</td>\n",
       "      <td>Бензин</td>\n",
       "      <td>Бензин</td>\n",
       "    </tr>\n",
       "    <tr>\n",
       "      <th>quantity</th>\n",
       "      <td>1</td>\n",
       "      <td>1</td>\n",
       "      <td>1</td>\n",
       "      <td>1</td>\n",
       "      <td>1</td>\n",
       "    </tr>\n",
       "    <tr>\n",
       "      <th>rate</th>\n",
       "      <td>366</td>\n",
       "      <td>500</td>\n",
       "      <td>400</td>\n",
       "      <td>429.37</td>\n",
       "      <td>583</td>\n",
       "    </tr>\n",
       "    <tr>\n",
       "      <th>receipt_id</th>\n",
       "      <td>25513</td>\n",
       "      <td>25514</td>\n",
       "      <td>25561</td>\n",
       "      <td>25582</td>\n",
       "      <td>25588</td>\n",
       "    </tr>\n",
       "  </tbody>\n",
       "</table>\n",
       "</div>"
      ],
      "text/plain": [
       "                                0           1           2           3  \\\n",
       "amount_x                      366         500         400      429.37   \n",
       "discount_amount                 0           0           0           0   \n",
       "discounted_amount             366         500         400      429.37   \n",
       "shop_description         РОСНЕФТЬ    РОСНЕФТЬ    РОСНЕФТЬ    РОСНЕФТЬ   \n",
       "points_earned                   5         6.5         5.5        8.48   \n",
       "shop_inn                      NaN         NaN         NaN         NaN   \n",
       "source                          1           1           1           1   \n",
       "payment_type                  NaN         NaN         NaN         NaN   \n",
       "cur_id                          1           1           1           1   \n",
       "is_cashback_processed           t           t           t           t   \n",
       "is_cashback_approved            f           f           f           f   \n",
       "date                   2017-08-19  2017-08-14  2016-10-03  2017-11-20   \n",
       "time                     00:17:04    00:21:10    00:18:29    00:06:20   \n",
       "amount_y                      366         500         400      429.37   \n",
       "description                Бензин      Бензин      Бензин      Бензин   \n",
       "quantity                        1           1           1           1   \n",
       "rate                          366         500         400      429.37   \n",
       "receipt_id                  25513       25514       25561       25582   \n",
       "\n",
       "                                4  \n",
       "amount_x                      583  \n",
       "discount_amount                 0  \n",
       "discounted_amount             583  \n",
       "shop_description         РОСНЕФТЬ  \n",
       "points_earned                   5  \n",
       "shop_inn                      NaN  \n",
       "source                          1  \n",
       "payment_type                  NaN  \n",
       "cur_id                          1  \n",
       "is_cashback_processed           t  \n",
       "is_cashback_approved            f  \n",
       "date                   2017-11-03  \n",
       "time                     00:22:16  \n",
       "amount_y                      583  \n",
       "description                Бензин  \n",
       "quantity                        1  \n",
       "rate                          583  \n",
       "receipt_id                  25588  "
      ]
     },
     "execution_count": 5,
     "metadata": {},
     "output_type": "execute_result"
    }
   ],
   "source": [
    "print('Объединённый датасет:')\n",
    "comb.head().T"
   ]
  },
  {
   "cell_type": "code",
   "execution_count": 6,
   "metadata": {
    "scrolled": true
   },
   "outputs": [
    {
     "name": "stdout",
     "output_type": "stream",
     "text": [
      "Процент пропущенных данных по колонкам:\n"
     ]
    },
    {
     "data": {
      "text/plain": [
       "amount_x                  0.0\n",
       "discount_amount           0.0\n",
       "discounted_amount         0.0\n",
       "shop_description         14.5\n",
       "points_earned            59.2\n",
       "shop_inn                 41.9\n",
       "source                    0.0\n",
       "payment_type             43.1\n",
       "cur_id                    0.0\n",
       "is_cashback_processed     0.0\n",
       "is_cashback_approved      0.0\n",
       "date                      0.0\n",
       "time                      2.2\n",
       "amount_y                  0.0\n",
       "description               0.0\n",
       "quantity                  0.0\n",
       "rate                      0.0\n",
       "receipt_id                0.0\n",
       "dtype: float64"
      ]
     },
     "execution_count": 6,
     "metadata": {},
     "output_type": "execute_result"
    }
   ],
   "source": [
    "print('Процент пропущенных данных по колонкам:')\n",
    "round(comb.isna().sum()/len(comb)*100,1)"
   ]
  },
  {
   "cell_type": "code",
   "execution_count": 7,
   "metadata": {},
   "outputs": [
    {
     "data": {
      "text/plain": [
       "count    2668.000000\n",
       "mean      185.437121\n",
       "std       367.366060\n",
       "min      -486.780000\n",
       "25%        21.000000\n",
       "50%        82.000000\n",
       "75%       182.000000\n",
       "max      3000.000000\n",
       "Name: points_earned, dtype: float64"
      ]
     },
     "execution_count": 7,
     "metadata": {},
     "output_type": "execute_result"
    }
   ],
   "source": [
    "comb.points_earned.describe()"
   ]
  },
  {
   "cell_type": "code",
   "execution_count": 8,
   "metadata": {},
   "outputs": [
    {
     "data": {
      "text/plain": [
       "count    3.800000e+03\n",
       "mean     3.338015e+10\n",
       "std      1.321606e+11\n",
       "min      2.580138e+08\n",
       "25%      4.629045e+09\n",
       "50%      7.707234e+09\n",
       "75%      7.825706e+09\n",
       "max      9.102220e+11\n",
       "Name: shop_inn, dtype: float64"
      ]
     },
     "execution_count": 8,
     "metadata": {},
     "output_type": "execute_result"
    }
   ],
   "source": [
    "comb.shop_inn.describe()"
   ]
  },
  {
   "cell_type": "code",
   "execution_count": 9,
   "metadata": {},
   "outputs": [
    {
     "data": {
      "text/plain": [
       " 2.0    2883\n",
       "NaN     2819\n",
       " 1.0     844\n",
       "Name: payment_type, dtype: int64"
      ]
     },
     "execution_count": 9,
     "metadata": {},
     "output_type": "execute_result"
    }
   ],
   "source": [
    "comb.payment_type.value_counts(dropna=False)"
   ]
  },
  {
   "cell_type": "markdown",
   "metadata": {},
   "source": [
    "**Наблюдения:**  \n",
    "Много пропущенных значений в колонках points_earned, shop_inn, payment_type. С первой вроде всё понятно: людим огут расплачиваться баллами и накапливать баллы. Вторая - просто характеристика продавца, а вот третья - не понятно что обозначает: возможно делит на оплату картой, наличными и телефоном или же виза, мастер кард и всё остальное.\n",
    "\n",
    "**Что делаем:** не вижу необходимости оставлять ИНН для нашего задания. В payment_type заменим NA на 0."
   ]
  },
  {
   "cell_type": "code",
   "execution_count": 10,
   "metadata": {},
   "outputs": [],
   "source": [
    "comb.drop('shop_inn', axis=1, inplace=True)\n",
    "comb.payment_type.fillna(0.0, inplace=True)"
   ]
  },
  {
   "cell_type": "markdown",
   "metadata": {},
   "source": [
    "Раз уж мы начали работать с этим показателем, посмотрим, как распределяются суммы по различным типам оплаты."
   ]
  },
  {
   "cell_type": "code",
   "execution_count": 12,
   "metadata": {},
   "outputs": [
    {
     "name": "stderr",
     "output_type": "stream",
     "text": [
      "C:\\Users\\moyseand\\AppData\\Local\\Continuum\\anaconda3\\lib\\site-packages\\IPython\\core\\display.py:689: UserWarning:\n",
      "\n",
      "Consider using IPython.display.IFrame instead\n",
      "\n"
     ]
    },
    {
     "data": {
      "text/html": [
       "<iframe id=\"igraph\" scrolling=\"no\" style=\"border:none;\" seamless=\"seamless\" src=\"https://plot.ly/~AndreyMoysenko/54.embed\" height=\"525px\" width=\"100%\"></iframe>"
      ],
      "text/plain": [
       "<chart_studio.tools.PlotlyDisplay object>"
      ]
     },
     "execution_count": 12,
     "metadata": {},
     "output_type": "execute_result"
    }
   ],
   "source": [
    "temp = comb.loc[comb.discounted_amount<3000,['receipt_id','payment_type','discounted_amount']].drop_duplicates()\n",
    "\n",
    "data = [go.Box(y = temp[temp.payment_type==ptype].discounted_amount, name=ptype) for ptype in temp.payment_type.unique()]\n",
    "layout = go.Layout(title='Boxplots receipt ammounts by payment type (receipt sum under 3k)')\n",
    "fig = go.Figure(data=data, layout=layout)\n",
    "\n",
    "py.iplot(fig, filename='box_ptype')"
   ]
  },
  {
   "cell_type": "markdown",
   "metadata": {},
   "source": [
    "Выдвинем и проверим гипотезу о разности средних размеров (в деньгах) покупок. Запишем гипотезу в терминах статистики:  \n",
    "**H0: Средняя сумма чека у оплаты типа 0 и оплаты типа 1 не отличается на уровне значимости 95%**  \n",
    "**H1: На уровне значимости 95% средний чек у оплаты типа 0 выше, чем у оплаты типа 1**  \n",
    "Таким образом, мы проверяем односторонню гипотезу о равности средних.\n",
    "\n",
    "Посмотрим на гистограммы распределений."
   ]
  },
  {
   "cell_type": "code",
   "execution_count": 14,
   "metadata": {},
   "outputs": [
    {
     "data": {
      "text/html": [
       "<iframe id=\"igraph\" scrolling=\"no\" style=\"border:none;\" seamless=\"seamless\" src=\"https://plot.ly/~AndreyMoysenko/56.embed\" height=\"525px\" width=\"100%\"></iframe>"
      ],
      "text/plain": [
       "<chart_studio.tools.PlotlyDisplay object>"
      ]
     },
     "execution_count": 14,
     "metadata": {},
     "output_type": "execute_result"
    }
   ],
   "source": [
    "temp = comb.loc[(comb.discounted_amount<3000)&(comb.payment_type<2),\n",
    "                ['payment_type','discounted_amount']].drop_duplicates()\n",
    "\n",
    "hist_data = [temp[temp.payment_type==ptype].discounted_amount\n",
    "             for ptype in temp.payment_type.unique()]\n",
    "\n",
    "group_labels = list(temp.payment_type.unique())\n",
    "colors = ['#333F44', '#94F3E4']\n",
    "\n",
    "fig = ff.create_distplot(hist_data, group_labels, show_hist=False, colors=colors)\n",
    "fig['layout'].update(title='Receipt ammount by payment type (<3k purchases)')\n",
    "py.iplot(fig, filename='hist_ptype')"
   ]
  },
  {
   "cell_type": "markdown",
   "metadata": {},
   "source": [
    "Видим, что распределения едва ли похожи на нормальные. Проверим это тестом Шапиро-Уилкинсона:"
   ]
  },
  {
   "cell_type": "code",
   "execution_count": 21,
   "metadata": {},
   "outputs": [
    {
     "name": "stdout",
     "output_type": "stream",
     "text": [
      "payment_0 is normally distributed?... False\n",
      "payment_1 is normally distributed?... False\n"
     ]
    }
   ],
   "source": [
    "payment_0 = temp[temp.payment_type==0.0].discounted_amount.values\n",
    "payment_1 = temp[temp.payment_type==1.0].discounted_amount.values\n",
    "\n",
    "print('payment_0 is normally distributed?...',stats.shapiro(payment_0)[1]>0.05)\n",
    "print('payment_1 is normally distributed?...',stats.shapiro(payment_1)[1]>0.05)"
   ]
  },
  {
   "cell_type": "markdown",
   "metadata": {},
   "source": [
    "Применим преобразование Бокса-Кокса для нормализации данных и ещё раз посмотрим на гистограммы."
   ]
  },
  {
   "cell_type": "code",
   "execution_count": 16,
   "metadata": {},
   "outputs": [
    {
     "data": {
      "text/html": [
       "<iframe id=\"igraph\" scrolling=\"no\" style=\"border:none;\" seamless=\"seamless\" src=\"https://plot.ly/~AndreyMoysenko/58.embed\" height=\"525px\" width=\"100%\"></iframe>"
      ],
      "text/plain": [
       "<chart_studio.tools.PlotlyDisplay object>"
      ]
     },
     "execution_count": 16,
     "metadata": {},
     "output_type": "execute_result"
    }
   ],
   "source": [
    "hist_data = [stats.boxcox(temp[temp.payment_type==ptype].discounted_amount)[0]\n",
    "             for ptype in temp.payment_type.unique()]\n",
    "\n",
    "group_labels = list(temp.payment_type.unique())\n",
    "colors = ['#333F44', '#94F3E4']\n",
    "\n",
    "fig = ff.create_distplot(hist_data, group_labels, show_hist=False, colors=colors)\n",
    "fig['layout'].update(title='Receipt ammount by payment type (<3k purchases) NORMALIZED')\n",
    "py.iplot(fig, filename='hist_ptype_normalized')"
   ]
  },
  {
   "cell_type": "markdown",
   "metadata": {},
   "source": [
    "Выглядит значительно лучше.  \n",
    "Простенькая функция для статистической проверки гипотез"
   ]
  },
  {
   "cell_type": "code",
   "execution_count": 19,
   "metadata": {},
   "outputs": [],
   "source": [
    "def test_hypothesis(array_1, array_2, one_sided=False, sign_level=0.95):\n",
    "    t, p = stats.ttest_ind(array_1, array_2)\n",
    "    if one_sided and t>0 and p/2<(1-sign_level):\n",
    "        print('H0 hypothesis can be rejected at %.2f significance level'%sign_level)\n",
    "    elif one_sided==False and p<(1-sign_level):\n",
    "        print('H0 hypothesis can be rejected at %.2f significance level'%sign_level)\n",
    "    else:\n",
    "        print('H0 hypothesis can NOT be rejected at %.2f significance level'%sign_level)        "
   ]
  },
  {
   "cell_type": "code",
   "execution_count": 22,
   "metadata": {},
   "outputs": [
    {
     "name": "stdout",
     "output_type": "stream",
     "text": [
      "H0 hypothesis can be rejected at 0.95 significance level\n"
     ]
    }
   ],
   "source": [
    "payment_0 = stats.boxcox(payment_0)[0]\n",
    "payment_1 = stats.boxcox(payment_1)[0]\n",
    "test_hypothesis(payment_0, payment_1, one_sided=True, sign_level=0.95)"
   ]
  },
  {
   "cell_type": "markdown",
   "metadata": {},
   "source": [
    "**Вывод:** подтверждаем, что средний чек с payment_type = 0 выше, чем с payment_type=1 "
   ]
  },
  {
   "cell_type": "markdown",
   "metadata": {},
   "source": [
    "#### Посмотрим на другие пересечения"
   ]
  },
  {
   "cell_type": "code",
   "execution_count": 23,
   "metadata": {},
   "outputs": [
    {
     "data": {
      "text/plain": [
       "Бензин                             114\n",
       "Пакет ПЯТЕРОЧКА 65х40см             85\n",
       "ПЕРЕКРЕСТОК Пакет майка 65х40см     42\n",
       "3300573 Пакет ПЯТЕРОЧКА 65х40см     26\n",
       "АИ-92 К5                            26\n",
       "Бананы 1кг                          20\n",
       "БЕЗ НАИМЕНОВАНИЯ                    18\n",
       "Бананы                      1кг     15\n",
       "Пакет-майка                         12\n",
       "Лук репчатый 1кг                    10\n",
       "Name: description, dtype: int64"
      ]
     },
     "execution_count": 23,
     "metadata": {},
     "output_type": "execute_result"
    }
   ],
   "source": [
    "comb.description.value_counts()[:10]"
   ]
  },
  {
   "cell_type": "markdown",
   "metadata": {},
   "source": [
    "Много покупок бензина. Посмотрим, где.."
   ]
  },
  {
   "cell_type": "code",
   "execution_count": 24,
   "metadata": {},
   "outputs": [
    {
     "data": {
      "text/plain": [
       "РОСНЕФТЬ            72\n",
       "ТНК                 20\n",
       "Банк ВБРР\" (АО)\"    19\n",
       "Extrim Drive         2\n",
       "Инстамарт            1\n",
       "Name: shop_description, dtype: int64"
      ]
     },
     "execution_count": 24,
     "metadata": {},
     "output_type": "execute_result"
    }
   ],
   "source": [
    "comb[comb.description=='Бензин'].shop_description.value_counts(dropna=False)"
   ]
  },
  {
   "cell_type": "markdown",
   "metadata": {},
   "source": [
    "Интересно посмотреть, как соотносится стоимость покупки бензина у различных продавцов."
   ]
  },
  {
   "cell_type": "code",
   "execution_count": 25,
   "metadata": {},
   "outputs": [
    {
     "data": {
      "text/plain": [
       "count    114.0\n",
       "mean       1.0\n",
       "std        0.0\n",
       "min        1.0\n",
       "25%        1.0\n",
       "50%        1.0\n",
       "75%        1.0\n",
       "max        1.0\n",
       "Name: quantity, dtype: float64"
      ]
     },
     "execution_count": 25,
     "metadata": {},
     "output_type": "execute_result"
    }
   ],
   "source": [
    "#убедимся, что количество всегда=1\n",
    "comb[comb.description=='Бензин'].quantity.describe()"
   ]
  },
  {
   "cell_type": "code",
   "execution_count": 26,
   "metadata": {},
   "outputs": [
    {
     "data": {
      "text/html": [
       "<iframe id=\"igraph\" scrolling=\"no\" style=\"border:none;\" seamless=\"seamless\" src=\"https://plot.ly/~AndreyMoysenko/60.embed\" height=\"525px\" width=\"100%\"></iframe>"
      ],
      "text/plain": [
       "<chart_studio.tools.PlotlyDisplay object>"
      ]
     },
     "execution_count": 26,
     "metadata": {},
     "output_type": "execute_result"
    }
   ],
   "source": [
    "temp = comb.loc[(comb.description=='Бензин')&(comb.rate<10000),['shop_description','rate']].drop_duplicates()\n",
    "\n",
    "data = [go.Box(y = temp[temp.shop_description==shopd].rate, name=shopd) for shopd in temp.shop_description.unique()]\n",
    "layout = go.Layout(title='Boxplots gazoline purchase rates by seller (rates <10000)')\n",
    "fig = go.Figure(data=data, layout=layout)\n",
    "\n",
    "py.iplot(fig, filename='box_gazoline_price_by_seller')"
   ]
  },
  {
   "cell_type": "markdown",
   "metadata": {},
   "source": [
    "Выдвинем и проверим гипотезу о разности средних размеров (в деньгах) покупок бензина у РОСНЕФТЬ и Банк ВБРР. Запишем гипотезу в терминах статистики:  \n",
    "**H0: Средняя сумма оплаты бензина у РОСНЕФТЬ и Банк ВБРР не отличается на уровне значимости 95%**  \n",
    "**H1: На уровне значимости 95% средняя сумма оплаты бензина у Банк ВБРР  выше, чем у РОСНЕФТЬ**  \n",
    "Таким образом, мы проверяем односторонню гипотезу о равности средних.\n",
    "\n",
    "Посмотрим на гистограммы распределений."
   ]
  },
  {
   "cell_type": "code",
   "execution_count": 27,
   "metadata": {},
   "outputs": [
    {
     "data": {
      "text/html": [
       "<iframe id=\"igraph\" scrolling=\"no\" style=\"border:none;\" seamless=\"seamless\" src=\"https://plot.ly/~AndreyMoysenko/62.embed\" height=\"525px\" width=\"100%\"></iframe>"
      ],
      "text/plain": [
       "<chart_studio.tools.PlotlyDisplay object>"
      ]
     },
     "execution_count": 27,
     "metadata": {},
     "output_type": "execute_result"
    }
   ],
   "source": [
    "temp1 = temp[temp.shop_description.isin(['РОСНЕФТЬ','Банк ВБРР\" (АО)\"'])]\n",
    "\n",
    "hist_data = [temp1[temp1.shop_description==shop].rate for shop in temp1.shop_description.unique()]\n",
    "\n",
    "group_labels = list(temp1.shop_description.unique())\n",
    "colors = ['green', 'orange']\n",
    "\n",
    "fig = ff.create_distplot(hist_data, group_labels, show_hist=False, colors=colors)\n",
    "fig['layout'].update(title='Gazoline Rate by seller (<10k purchases)')\n",
    "py.iplot(fig, filename='hist_gaz_price_by_seller')"
   ]
  },
  {
   "cell_type": "markdown",
   "metadata": {},
   "source": [
    "Опять проверим на нормальность."
   ]
  },
  {
   "cell_type": "code",
   "execution_count": 28,
   "metadata": {},
   "outputs": [
    {
     "name": "stdout",
     "output_type": "stream",
     "text": [
      "rneft is normally distributed?... False\n",
      "vbrr is normally distributed?... False\n"
     ]
    }
   ],
   "source": [
    "rneft = temp1[temp1.shop_description=='РОСНЕФТЬ'].rate.values\n",
    "vbrr = temp1[temp1.shop_description=='Банк ВБРР\" (АО)\"'].rate.values\n",
    "\n",
    "print('rneft is normally distributed?...',stats.shapiro(rneft)[1]>0.05)\n",
    "print('vbrr is normally distributed?...',stats.shapiro(vbrr)[1]>0.05)"
   ]
  },
  {
   "cell_type": "markdown",
   "metadata": {},
   "source": [
    "Очевидно (и статистически подтверждено), что они распределения не нормальные. Преобразуем и посмотрим на гистограммы ещё раз."
   ]
  },
  {
   "cell_type": "code",
   "execution_count": 29,
   "metadata": {},
   "outputs": [
    {
     "data": {
      "text/html": [
       "<iframe id=\"igraph\" scrolling=\"no\" style=\"border:none;\" seamless=\"seamless\" src=\"https://plot.ly/~AndreyMoysenko/64.embed\" height=\"525px\" width=\"100%\"></iframe>"
      ],
      "text/plain": [
       "<chart_studio.tools.PlotlyDisplay object>"
      ]
     },
     "execution_count": 29,
     "metadata": {},
     "output_type": "execute_result"
    }
   ],
   "source": [
    "temp1 = temp[temp.shop_description.isin(['РОСНЕФТЬ','Банк ВБРР\" (АО)\"'])]\n",
    "\n",
    "hist_data = [stats.boxcox(temp1[temp1.shop_description==shop].rate, lmbda=0) for shop in temp1.shop_description.unique()]\n",
    "\n",
    "group_labels = list(temp1.shop_description.unique())\n",
    "colors = ['green', 'orange']\n",
    "\n",
    "fig = ff.create_distplot(hist_data, group_labels, show_hist=False, colors=colors)\n",
    "fig['layout'].update(title='Gazoline Rate by seller (<10k purchases) NORMALIZED')\n",
    "py.iplot(fig, filename='hist_gaz_price_by_seller_normalized')"
   ]
  },
  {
   "cell_type": "markdown",
   "metadata": {},
   "source": [
    "Не идеально, но хотя бы приблизили к нормальному"
   ]
  },
  {
   "cell_type": "code",
   "execution_count": 30,
   "metadata": {},
   "outputs": [
    {
     "name": "stdout",
     "output_type": "stream",
     "text": [
      "H0 hypothesis can be rejected at 0.95 significance level\n"
     ]
    }
   ],
   "source": [
    "rneft = stats.boxcox(rneft, lmbda=0)\n",
    "vbrr = stats.boxcox(vbrr, lmbda=0)\n",
    "test_hypothesis(vbrr, rneft, one_sided=True, sign_level=0.95)"
   ]
  },
  {
   "cell_type": "markdown",
   "metadata": {},
   "source": [
    "**Вывод:** подтверждаем, средняя сумма покупки бензина у \"Банк ВБРР\" выше, чем у \"РОСНЕФТЬ\""
   ]
  },
  {
   "cell_type": "markdown",
   "metadata": {},
   "source": [
    "#### P.S. Подобным образом можно придумать и проверить множество гипотез, в зависимости от бизнес задач."
   ]
  }
 ],
 "metadata": {
  "kernelspec": {
   "display_name": "Python 3",
   "language": "python",
   "name": "python3"
  },
  "language_info": {
   "codemirror_mode": {
    "name": "ipython",
    "version": 3
   },
   "file_extension": ".py",
   "mimetype": "text/x-python",
   "name": "python",
   "nbconvert_exporter": "python",
   "pygments_lexer": "ipython3",
   "version": "3.7.1"
  }
 },
 "nbformat": 4,
 "nbformat_minor": 2
}
